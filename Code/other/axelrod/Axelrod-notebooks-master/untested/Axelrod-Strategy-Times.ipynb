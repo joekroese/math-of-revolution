{
 "cells": [
  {
   "cell_type": "markdown",
   "metadata": {},
   "source": [
    "This notebook computes the average strategy runtime by pitting each strategy versus each other strategy. It will take a few hours to run."
   ]
  },
  {
   "cell_type": "code",
   "execution_count": 1,
   "metadata": {
    "collapsed": true
   },
   "outputs": [],
   "source": [
    "import timeit\n",
    "\n",
    "import numpy as np\n",
    "import pandas as pd\n",
    "import tqdm\n",
    "\n",
    "import axelrod as axl"
   ]
  },
  {
   "cell_type": "code",
   "execution_count": 2,
   "metadata": {},
   "outputs": [
    {
     "data": {
      "text/plain": [
       "'3.0.0'"
      ]
     },
     "execution_count": 2,
     "metadata": {},
     "output_type": "execute_result"
    }
   ],
   "source": [
    "axl.__version__"
   ]
  },
  {
   "cell_type": "code",
   "execution_count": 3,
   "metadata": {
    "collapsed": true
   },
   "outputs": [],
   "source": [
    "strategies = axl.strategies\n",
    "reps = 20"
   ]
  },
  {
   "cell_type": "code",
   "execution_count": 4,
   "metadata": {},
   "outputs": [],
   "source": [
    "def play_matches(s1, s2, reps=20):\n",
    "    match = axl.Match(players=(s1(), s2()), turns=100)\n",
    "    for _ in range(reps):\n",
    "        match.play()"
   ]
  },
  {
   "cell_type": "code",
   "execution_count": 5,
   "metadata": {},
   "outputs": [
    {
     "name": "stderr",
     "output_type": "stream",
     "text": [
      "100%|██████████| 195/195 [16:59:50<00:00, 1886.19s/it]  \n"
     ]
    }
   ],
   "source": [
    "data = []        \n",
    "        \n",
    "for s1 in tqdm.tqdm(strategies):\n",
    "    times = []\n",
    "    for s2 in strategies:\n",
    "        t = timeit.timeit(lambda: play_matches(s1, s2, reps=reps), number=1)\n",
    "        times.append(t / float(reps))\n",
    "    data.append((str(s1()), np.mean(times), np.std(times)))\n",
    "\n",
    "df = pd.DataFrame(data, columns=[\"Player Name\", \"Mean Time\", \"Std Time\"])\n",
    "df.sort_values(by=\"Mean Time\", inplace=True, ascending=False)"
   ]
  },
  {
   "cell_type": "code",
   "execution_count": 6,
   "metadata": {},
   "outputs": [
    {
     "name": "stdout",
     "output_type": "stream",
     "text": [
      "                                 Player Name  Mean Time  Std Time\n",
      "183        Meta Winner Ensemble: 173 players   0.725196  0.163327\n",
      "194   Nice Meta Winner Ensemble: 173 players   0.717734  0.163551\n",
      "181                 Meta Winner: 173 players   0.715843  0.163815\n",
      "193            Nice Meta Winner: 173 players   0.710260  0.161433\n",
      "180                  Meta Mixer: 173 players   0.704137  0.164330\n",
      "179               Meta Minority: 173 players   0.703511  0.161470\n",
      "175               Meta Majority: 173 players   0.694404  0.163263\n",
      "188          NMWE Deterministic: 126 players   0.674661  0.161399\n",
      "186      Meta Winner Long Memory: 95 players   0.669951  0.163705\n",
      "190             NMWE Long Memory: 95 players   0.669422  0.161453\n",
      "178    Meta Majority Long Memory: 95 players   0.654059  0.161824\n",
      "182   Meta Winner Deterministic: 126 players   0.274890  0.368792\n",
      "32                     DBS: 0.75, 3, 4, 3, 5   0.237661  0.326356\n",
      "189           NMWE Finite Memory: 78 players   0.082399  0.161549\n",
      "185    Meta Winner Finite Memory: 78 players   0.078334  0.163674\n",
      "192              NMWE Stochastic: 47 players   0.077715  0.160826\n",
      "187       Meta Winner Stochastic: 47 players   0.074814  0.162308\n",
      "177  Meta Majority Finite Memory: 78 players   0.072536  0.161273\n",
      "191              NMWE Memory One: 30 players   0.055799  0.160154\n",
      "184       Meta Winner Memory One: 30 players   0.053825  0.161574\n",
      "176     Meta Majority Memory One: 30 players   0.050814  0.158918\n",
      "51                             Evolved HMM 5   0.049297  0.159704\n",
      "18                         Cautious QLearner   0.047443  0.165049\n",
      "12                         Arrogant QLearner   0.047385  0.164823\n",
      "14                         Better and Better   0.046649  0.167129\n",
      "17                                Calculator   0.046625  0.166518\n",
      "13                            Average Copier   0.046254  0.165869\n",
      "4                                 ALLCorALLD   0.045717  0.164213\n",
      "85                         Hesitant QLearner   0.045697  0.158947\n",
      "126                           Risky QLearner   0.045648  0.158738\n",
      "..                                       ...        ...       ...\n",
      "48                   Evolved FSM 16 Noise 05   0.037923  0.148604\n",
      "120                             Resurrection   0.037918  0.148614\n",
      "95                      Math Constant Hunter   0.037918  0.148293\n",
      "104                                    $\\pi$   0.037917  0.148406\n",
      "73                                   Grudger   0.037915  0.148749\n",
      "150                              Tit For Tat   0.037915  0.148737\n",
      "129                                   Shubik   0.037914  0.148716\n",
      "124                    Revised Downing: True   0.037910  0.148451\n",
      "135                               SolutionB1   0.037907  0.148419\n",
      "36                 DoubleCrosser: ('D', 'D')   0.037902  0.148167\n",
      "68                    Soft Go By Majority: 5   0.037898  0.148177\n",
      "161                   Win-Stay Lose-Shift: C   0.037892  0.148436\n",
      "46                             Evolved FSM 4   0.037886  0.148443\n",
      "156                                  VeryBad   0.037871  0.148505\n",
      "130                    Slow Tit For Two Tats   0.037856  0.148452\n",
      "31                                 Davis: 10   0.037850  0.148450\n",
      "128                                 ShortMem   0.037848  0.148281\n",
      "91                            Level Punisher   0.037847  0.148361\n",
      "58                                  Forgiver   0.037834  0.148303\n",
      "84                          Hard Tit For Tat   0.037807  0.148200\n",
      "54                           Fool Me Forever   0.037794  0.148077\n",
      "42                     Eventual Cycle Hunter   0.037786  0.147847\n",
      "152                        Tricky Cooperator   0.037772  0.147798\n",
      "74                         GrudgerAlternator   0.037734  0.147876\n",
      "75                     Grumpy: Nice, 10, -10   0.037720  0.147843\n",
      "103                         Opposite Grudger   0.037701  0.147757\n",
      "118                            Random Hunter   0.037666  0.147202\n",
      "23                         Cooperator Hunter   0.037662  0.147499\n",
      "22                                Cooperator   0.037562  0.147239\n",
      "34                           Defector Hunter   0.037512  0.146974\n",
      "\n",
      "[195 rows x 3 columns]\n"
     ]
    }
   ],
   "source": [
    "print(df)"
   ]
  },
  {
   "cell_type": "code",
   "execution_count": 7,
   "metadata": {
    "collapsed": true
   },
   "outputs": [],
   "source": [
    "df.to_csv(\"runtimes.csv\")"
   ]
  },
  {
   "cell_type": "code",
   "execution_count": null,
   "metadata": {
    "collapsed": true
   },
   "outputs": [],
   "source": []
  }
 ],
 "metadata": {
  "anaconda-cloud": {},
  "kernelspec": {
   "display_name": "Python [default]",
   "language": "python",
   "name": "python3"
  },
  "language_info": {
   "codemirror_mode": {
    "name": "ipython",
    "version": 3
   },
   "file_extension": ".py",
   "mimetype": "text/x-python",
   "name": "python",
   "nbconvert_exporter": "python",
   "pygments_lexer": "ipython3",
   "version": "3.5.2"
  },
  "widgets": {
   "state": {},
   "version": "1.0.0"
  }
 },
 "nbformat": 4,
 "nbformat_minor": 1
}
